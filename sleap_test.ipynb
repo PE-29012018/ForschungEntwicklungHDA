{
 "cells": [
  {
   "cell_type": "code",
   "execution_count": 2,
   "id": "initial_id",
   "metadata": {
    "collapsed": true,
    "ExecuteTime": {
     "end_time": "2024-05-14T11:52:32.388049900Z",
     "start_time": "2024-05-14T11:51:46.455029400Z"
    }
   },
   "outputs": [
    {
     "name": "stderr",
     "output_type": "stream",
     "text": [
      "Der Befehl \"apt-get\" ist entweder falsch geschrieben oder\n",
      "konnte nicht gefunden werden.\n",
      "Der Befehl \"wget\" ist entweder falsch geschrieben oder\n",
      "konnte nicht gefunden werden.\n",
      "Der Befehl \"unzip\" ist entweder falsch geschrieben oder\n",
      "konnte nicht gefunden werden.\n",
      "Der Befehl \"rm\" ist entweder falsch geschrieben oder\n",
      "konnte nicht gefunden werden.\n"
     ]
    },
    {
     "name": "stdout",
     "output_type": "stream",
     "text": [
      "Auflistung der Ordnerpfade für Volume System\n",
      "Volumeseriennummer : 000001FD ACDC:A84C\n",
      "C:\\USERS\\PDRESSEL\\ONEDRIVE - SVA SYSTEM VERTRIEB ALEXANDER GMBH\\DOKUMENTE\\GITHUB\\FORSCHUNGENTWICKLUNGHDA\\DATASET\n",
      "Ungültiger Pfad \\USERS\\PDRESSEL\\ONEDRIVE - SVA SYSTEM VERTRIEB ALEXANDER GMBH\\DOKUMENTE\\GITHUB\\FORSCHUNGENTWICKLUNGHDA\\DATASET\n",
      "Es sind keine Unterordner vorhanden \n"
     ]
    },
    {
     "name": "stderr",
     "output_type": "stream",
     "text": [
      "Der Befehl \"sleap-train\" ist entweder falsch geschrieben oder\n",
      "konnte nicht gefunden werden.\n",
      "Der Befehl \"sleap-train\" ist entweder falsch geschrieben oder\n",
      "konnte nicht gefunden werden.\n",
      "Der Befehl \"sleap-track\" ist entweder falsch geschrieben oder\n",
      "konnte nicht gefunden werden.\n",
      "Der Befehl \"sleap-inspect\" ist entweder falsch geschrieben oder\n",
      "konnte nicht gefunden werden.\n",
      "Der Befehl \"zip\" ist entweder falsch geschrieben oder\n",
      "konnte nicht gefunden werden.\n"
     ]
    },
    {
     "ename": "ModuleNotFoundError",
     "evalue": "No module named 'google'",
     "output_type": "error",
     "traceback": [
      "\u001B[1;31m---------------------------------------------------------------------------\u001B[0m",
      "\u001B[1;31mModuleNotFoundError\u001B[0m                       Traceback (most recent call last)",
      "Cell \u001B[1;32mIn[2], line 29\u001B[0m\n\u001B[0;32m     26\u001B[0m get_ipython()\u001B[38;5;241m.\u001B[39msystem(\u001B[38;5;124m'\u001B[39m\u001B[38;5;124mzip -r trained_models.zip models/\u001B[39m\u001B[38;5;124m'\u001B[39m)\n\u001B[0;32m     28\u001B[0m \u001B[38;5;66;03m# Herunterladen der Modelle\u001B[39;00m\n\u001B[1;32m---> 29\u001B[0m \u001B[38;5;28;01mfrom\u001B[39;00m \u001B[38;5;21;01mgoogle\u001B[39;00m\u001B[38;5;21;01m.\u001B[39;00m\u001B[38;5;21;01mcolab\u001B[39;00m \u001B[38;5;28;01mimport\u001B[39;00m files\n\u001B[0;32m     30\u001B[0m files\u001B[38;5;241m.\u001B[39mdownload(\u001B[38;5;124m\"\u001B[39m\u001B[38;5;124mtrained_models.zip\u001B[39m\u001B[38;5;124m\"\u001B[39m)\n\u001B[0;32m     32\u001B[0m \u001B[38;5;66;03m# Herunterladen der Vorhersagen\u001B[39;00m\n",
      "\u001B[1;31mModuleNotFoundError\u001B[0m: No module named 'google'"
     ]
    }
   ],
   "source": [
    "# Installiere SLEAP\n",
    "!pip uninstall -qqq -y opencv-python opencv-contrib-python\n",
    "!pip install -qqq \"sleap[pypi]>=1.3.3\"\n",
    "\n",
    "# Lade das Beispiel-Dataset herunter\n",
    "!apt-get install -y tree\n",
    "!wget -O dataset.zip https://github.com/talmolab/sleap-datasets/releases/download/drosophila-melanogaster-courtship/drosophila-melanogaster-courtship.zip\n",
    "!unzip dataset.zip -d dataset\n",
    "!rm dataset.zip\n",
    "!tree dataset\n",
    "\n",
    "# Trainiere Modelle\n",
    "# Trainiere das Centroid-Modell\n",
    "!sleap-train baseline.centroid.json \"dataset/drosophila-melanogaster-courtship/courtship_labels.slp\"\n",
    "\n",
    "# Trainiere das Centered-Instance-Modell\n",
    "!sleap-train baseline_medium_rf.topdown.json \"dataset/drosophila-melanogaster-courtship/courtship_labels.slp\"\n",
    "\n",
    "# Inferenz\n",
    "!sleap-track \"dataset/drosophila-melanogaster-courtship/20190128_113421.mp4\" --frames \"0-100\" --output \"dataset/drosophila-melanogaster-courtship/20190128_113421.mp4.predictions.slp\"\n",
    "\n",
    "# Inspektionswerkzeug für Vorhersagen\n",
    "!sleap-inspect dataset/drosophila-melanogaster-courtship/20190128_113421.mp4.predictions.slp\n",
    "\n",
    "# Zippen der Modelle für den Download\n",
    "!zip -r trained_models.zip models/\n",
    "\n",
    "# Herunterladen der Modelle\n",
    "from google.colab import files\n",
    "files.download(\"trained_models.zip\")\n",
    "\n",
    "# Herunterladen der Vorhersagen\n",
    "files.download(\"dataset/drosophila-melanogaster-courtship/20190128_113421.mp4.predictions.slp\")\n"
   ]
  },
  {
   "cell_type": "code",
   "execution_count": null,
   "outputs": [],
   "source": [],
   "metadata": {
    "collapsed": false
   },
   "id": "adb8dca2916484f9"
  }
 ],
 "metadata": {
  "kernelspec": {
   "display_name": "Python 3",
   "language": "python",
   "name": "python3"
  },
  "language_info": {
   "codemirror_mode": {
    "name": "ipython",
    "version": 2
   },
   "file_extension": ".py",
   "mimetype": "text/x-python",
   "name": "python",
   "nbconvert_exporter": "python",
   "pygments_lexer": "ipython2",
   "version": "2.7.6"
  }
 },
 "nbformat": 4,
 "nbformat_minor": 5
}
